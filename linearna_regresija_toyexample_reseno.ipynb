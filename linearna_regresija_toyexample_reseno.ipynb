{
  "cells": [
    {
      "cell_type": "code",
      "execution_count": null,
      "metadata": {
        "id": "1YnE_W_vZtCU",
        "scrolled": true
      },
      "outputs": [],
      "source": [
        "# imports\n",
        "import numpy as np\n",
        "import matplotlib.pyplot as plt\n",
        "from scipy import stats"
      ]
    },
    {
      "cell_type": "markdown",
      "metadata": {
        "id": "j-_32NQjZtCY"
      },
      "source": [
        "Pravimo klasu LinearRegressionUsingGD koja će sadržati 3 metode: za inicijalizaciju, za obuku modela i za primenu modela (predikcija vrednosti izlaza za novi uzorak)."
      ]
    },
    {
      "cell_type": "markdown",
      "metadata": {
        "id": "kCy_FQh5px_g"
      },
      "source": [
        "$ y_{pred}=x \\cdot w $"
      ]
    },
    {
      "cell_type": "markdown",
      "metadata": {
        "id": "_wc0jwtFpx_h"
      },
      "source": [
        "$ r = y_{pred} - y $"
      ]
    },
    {
      "cell_type": "markdown",
      "metadata": {
        "id": "H3zNa8frpx_h"
      },
      "source": [
        "$ g = x \\cdot r $"
      ]
    },
    {
      "cell_type": "markdown",
      "metadata": {
        "id": "0XgClD5Apx_i"
      },
      "source": [
        "$ w = w - \\frac{\\eta}{m} * g $"
      ]
    },
    {
      "cell_type": "markdown",
      "metadata": {
        "id": "raQswJvrpx_i"
      },
      "source": [
        "$ J = \\frac{1}{2m}\\sum{r^2} $"
      ]
    },
    {
      "cell_type": "code",
      "execution_count": null,
      "metadata": {
        "id": "ewDoQAlxZtCa"
      },
      "outputs": [],
      "source": [
        "class LinearRegressionUsingGD:\n",
        "    \"\"\"\n",
        "    eta : Brzina ucenja\n",
        "    n_iterations : Broj iteracija algoritma\n",
        "\n",
        "    w_ : koeficijenti obucenog modela\n",
        "    cost_ : vrednost funkcije cene\n",
        "    \"\"\"\n",
        "\n",
        "    def __init__(self, eta=0.05, n_iterations=1000):\n",
        "        self.eta = eta\n",
        "        self.n_iterations = n_iterations\n",
        "\n",
        "    def fit(self, x, y):\n",
        "        \"\"\"\n",
        "        Ulazni parametri\n",
        "        -------\n",
        "        x : numpy array, shape = [n_samples, n_features]\n",
        "            Trening uzorci\n",
        "        y : numpy array, shape = [n_samples, n_target_values]\n",
        "            Ciljne vrednosti izlaza + np.random.rand(50, 1)\n",
        "\n",
        "        Izlazni parametri\n",
        "        -------\n",
        "        self : object (obučen model)\n",
        "        \"\"\"\n",
        "\n",
        "        self.cost_ = []\n",
        "        x = np.concatenate((x, np.ones((x.shape[0],1))), axis=1)\n",
        "        self.w_ = np.zeros((x.shape[1], 1))\n",
        "        m = x.shape[0] #broj uzoraka\n",
        "\n",
        "        for _ in range(self.n_iterations):\n",
        "            y_pred = np.dot(x, self.w_)\n",
        "            residuals = y_pred - y\n",
        "            gradient_vector = np.dot(x.T, residuals)\n",
        "            self.w_ -= (self.eta / m) * gradient_vector\n",
        "            cost = np.sum((residuals ** 2)) / (2 * m)\n",
        "            self.cost_.append(cost)\n",
        "        return self\n",
        "\n",
        "    def predict(self, x):\n",
        "        \"\"\"\n",
        "        Ulazni parametri\n",
        "        ----------\n",
        "        x : numpy array, shape = [n_samples, n_features]\n",
        "            Test uzorci\n",
        "        Izlazni parametri\n",
        "        -------\n",
        "        Predviđene vrednosti zavisne promenljive\n",
        "        \"\"\"\n",
        "        x = np.concatenate((x, np.ones((x.shape[0],1))), axis=1)\n",
        "\n",
        "        return np.dot(x, self.w_)"
      ]
    },
    {
      "cell_type": "markdown",
      "metadata": {
        "id": "G8CQNO_CZtCb"
      },
      "source": [
        "Generišemo jednodimenzionalni skup podataka (uređeni parovi (x,y))."
      ]
    },
    {
      "cell_type": "code",
      "execution_count": null,
      "metadata": {
        "id": "vlmjksxqZtCc",
        "outputId": "5a8d1ec4-5b4e-4b54-ea66-acc6613f5ae8",
        "colab": {
          "base_uri": "https://localhost:8080/",
          "height": 486
        }
      },
      "outputs": [
        {
          "output_type": "execute_result",
          "data": {
            "text/plain": [
              "<matplotlib.legend.Legend at 0x780b9bd27fa0>"
            ]
          },
          "metadata": {},
          "execution_count": 9
        },
        {
          "output_type": "display_data",
          "data": {
            "text/plain": [
              "<Figure size 640x480 with 1 Axes>"
            ],
            "image/png": "[encoded data removed]"
          },
          "metadata": {}
        }
      ],
      "source": [
        "np.random.seed(0)\n",
        "x = np.random.rand(100, 1)\n",
        "y = 2 + 3 * x + np.random.rand(100, 1)\n",
        "\n",
        "x1 = np.random.rand(50, 1)\n",
        "y1 = 2 + 3 * x1 + np.random.rand(50, 1)\n",
        "\n",
        "# plot\n",
        "plt.scatter(x,y,label='(x,y)')\n",
        "plt.scatter(x1,y1,label='(x1,y1)')\n",
        "plt.xlabel('x')\n",
        "plt.ylabel('y')\n",
        "plt.legend()"
      ]
    },
    {
      "cell_type": "markdown",
      "metadata": {
        "id": "U-wsppspZtCd"
      },
      "source": [
        "Obučavamo model lin.regresije koristeći podatke za obuku (uređene parove (x,y)). Potom koristeći obučen model vršimo predviđanje izlaza, kako za test uzorke (x1), tako i za uzorke za obuku (x)."
      ]
    },
    {
      "cell_type": "code",
      "execution_count": null,
      "metadata": {
        "id": "gMNhheYuZtCd"
      },
      "outputs": [],
      "source": [
        "linear_regression_model = LinearRegressionUsingGD()\n",
        "linear_regression_model.fit(x, y)\n",
        "y_pred = linear_regression_model.predict(x)\n",
        "y1_pred = linear_regression_model.predict(x1)"
      ]
    },
    {
      "cell_type": "markdown",
      "metadata": {
        "id": "88zjr_KoZtCe"
      },
      "source": [
        "Koristeći prave vrednosti (y i y1) i predviđene vrednosti (y_pred i y1_pred) procenjujemo grešku modela na skupu za obuku i na  test skupu, koristeći nekoliko standardnih mera za procenu greške regresionih modela."
      ]
    },
    {
      "cell_type": "code",
      "execution_count": null,
      "metadata": {
        "id": "ZH2G9eICZtCe",
        "outputId": "0b79b169-3fd2-4e63-93f9-bb1eaece3d0b",
        "colab": {
          "base_uri": "https://localhost:8080/"
        }
      },
      "outputs": [
        {
          "output_type": "stream",
          "name": "stdout",
          "text": [
            "R2 score trng:  0.9036464134445802\n",
            "R2 score test:  0.8784585259249473\n"
          ]
        }
      ],
      "source": [
        "# residual sum of squares\n",
        "rss = np.sum((y_pred - y)**2)\n",
        "rss1 = np.sum((y1_pred - y1)**2)\n",
        "\n",
        "#  total sum of squares\n",
        "tss = np.sum((y - np.mean(y))**2)\n",
        "tss1 = np.sum((y1 - np.mean(y1))**2)\n",
        "\n",
        "# R2 score\n",
        "r2_score = 1 - (rss/tss)\n",
        "print('R2 score trng: ', r2_score)\n",
        "r2_score1 = 1 - (rss1/tss1)\n",
        "print('R2 score test: ', r2_score1)"
      ]
    },
    {
      "cell_type": "markdown",
      "metadata": {
        "id": "yQ4eNQJSZtCf"
      },
      "source": [
        "Proveravamo koji su dobijeni koeficijenti za obučeni model linearne regresije."
      ]
    },
    {
      "cell_type": "code",
      "execution_count": null,
      "metadata": {
        "id": "XXMe15PzZtCf",
        "outputId": "03033bc4-c63e-40b7-bad9-53705b16c08c",
        "colab": {
          "base_uri": "https://localhost:8080/"
        }
      },
      "outputs": [
        {
          "output_type": "stream",
          "name": "stdout",
          "text": [
            "[[2.89114079]\n",
            " [2.58109277]]\n"
          ]
        }
      ],
      "source": [
        "coeffs = linear_regression_model.w_\n",
        "print(coeffs)"
      ]
    },
    {
      "cell_type": "markdown",
      "metadata": {
        "id": "pxGn_2EdZtCf"
      },
      "source": [
        "Iscrtavamo promenu funkcije cene tokom obuke modela."
      ]
    },
    {
      "cell_type": "code",
      "execution_count": null,
      "metadata": {
        "id": "8rLoV3IRZtCg",
        "outputId": "f4aa7348-6e6a-4aaf-8ee8-e3ee26a31bfa",
        "colab": {
          "base_uri": "https://localhost:8080/",
          "height": 467
        }
      },
      "outputs": [
        {
          "output_type": "execute_result",
          "data": {
            "text/plain": [
              "[<matplotlib.lines.Line2D at 0x780bb89b9150>]"
            ]
          },
          "metadata": {},
          "execution_count": 13
        },
        {
          "output_type": "display_data",
          "data": {
            "text/plain": [
              "<Figure size 640x480 with 1 Axes>"
            ],
            "image/png": "[encoded data removed]"
          },
          "metadata": {}
        }
      ],
      "source": [
        "cost_function = linear_regression_model.cost_\n",
        "\n",
        "fig=plt.figure()\n",
        "plt.plot(np.arange(len(cost_function)), cost_function)"
      ]
    },
    {
      "cell_type": "markdown",
      "metadata": {
        "id": "1FokFvWSZtCg"
      },
      "source": [
        "Poredimo grafički prave i predviđene vrednosti iz test skupa."
      ]
    },
    {
      "cell_type": "code",
      "execution_count": null,
      "metadata": {
        "id": "f1X6UNMnZtCg",
        "outputId": "aa3e65f5-ba7e-4a5d-f5fa-b994b3c97c43",
        "colab": {
          "base_uri": "https://localhost:8080/",
          "height": 467
        }
      },
      "outputs": [
        {
          "output_type": "execute_result",
          "data": {
            "text/plain": [
              "<matplotlib.collections.PathCollection at 0x780b9bf71810>"
            ]
          },
          "metadata": {},
          "execution_count": 14
        },
        {
          "output_type": "display_data",
          "data": {
            "text/plain": [
              "<Figure size 640x480 with 1 Axes>"
            ],
            "image/png": "[encoded data removed]"
          },
          "metadata": {}
        }
      ],
      "source": [
        "plt.scatter(x1,y1_pred)\n",
        "plt.scatter(x1,y1)"
      ]
    },
    {
      "cell_type": "code",
      "execution_count": null,
      "metadata": {
        "id": "_zMIITztZtCh"
      },
      "outputs": [],
      "source": []
    }
  ],
  "metadata": {
    "colab": {
      "provenance": []
    },
    "kernelspec": {
      "display_name": "Python 3",
      "language": "python",
      "name": "python3"
    },
    "language_info": {
      "codemirror_mode": {
        "name": "ipython",
        "version": 3
      },
      "file_extension": ".py",
      "mimetype": "text/x-python",
      "name": "python",
      "nbconvert_exporter": "python",
      "pygments_lexer": "ipython3",
      "version": "3.7.3"
    }
  },
  "nbformat": 4,
  "nbformat_minor": 0
}